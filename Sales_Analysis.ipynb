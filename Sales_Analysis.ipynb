{
  "nbformat": 4,
  "nbformat_minor": 0,
  "metadata": {
    "colab": {
      "provenance": [],
      "authorship_tag": "ABX9TyO+8OhFHNBb5Kf1DDhIPwzb",
      "include_colab_link": true
    },
    "kernelspec": {
      "name": "python3",
      "display_name": "Python 3"
    },
    "language_info": {
      "name": "python"
    }
  },
  "cells": [
    {
      "cell_type": "markdown",
      "metadata": {
        "id": "view-in-github",
        "colab_type": "text"
      },
      "source": [
        "<a href=\"https://colab.research.google.com/github/Rishabhjain2003/Sales-Analysis/blob/main/Sales_Analysis.ipynb\" target=\"_parent\"><img src=\"https://colab.research.google.com/assets/colab-badge.svg\" alt=\"Open In Colab\"/></a>"
      ]
    },
    {
      "cell_type": "code",
      "execution_count": 27,
      "metadata": {
        "colab": {
          "base_uri": "https://localhost:8080/"
        },
        "id": "atq6309eViET",
        "outputId": "f108604e-96b7-49da-815c-99758d05f19c"
      },
      "outputs": [
        {
          "output_type": "stream",
          "name": "stdout",
          "text": [
            "     Store_Area  Items_Available  Daily_Customer_Count  Store_Sales\n",
            "0          1659             1961                   530        66490\n",
            "1          1461             1752                   210        39820\n",
            "2          1340             1609                   720        54010\n",
            "3          1451             1748                   620        53730\n",
            "4          1770             2111                   450        46620\n",
            "..          ...              ...                   ...          ...\n",
            "891        1582             1910                  1080        66390\n",
            "892        1387             1663                   850        82080\n",
            "893        1200             1436                  1060        76440\n",
            "894        1299             1560                   770        96610\n",
            "895        1174             1429                  1110        54340\n",
            "\n",
            "[896 rows x 4 columns]\n",
            "Index(['Store_Area', 'Items_Available', 'Daily_Customer_Count', 'Store_Sales'], dtype='object')\n"
          ]
        }
      ],
      "source": [
        "import pandas as pd\n",
        "\n",
        "data = pd.read_csv('/content/Stores.csv')\n",
        "\n",
        "data = data.iloc[:, 1:]\n",
        "\n",
        "print(data)\n",
        "print(data.columns)"
      ]
    },
    {
      "cell_type": "code",
      "source": [
        "from sklearn.model_selection import train_test_split\n",
        "from sklearn.preprocessing import StandardScaler\n",
        "from sklearn.linear_model import LinearRegression\n",
        "\n",
        "model = LinearRegression()\n",
        "\n",
        "scaler = StandardScaler()\n",
        "\n",
        "X = data.drop(columns = ['Store_Sales'])\n",
        "y = data['Store_Sales']\n",
        "\n",
        "print(X)\n",
        "print(y)\n",
        "\n",
        "x_scaled = scaler.fit_transform(X)\n",
        "\n",
        "X_train, X_test, y_train, y_test = train_test_split(x_scaled, y, test_size=0.2)"
      ],
      "metadata": {
        "colab": {
          "base_uri": "https://localhost:8080/"
        },
        "id": "CSK7OC2DWd6f",
        "outputId": "8758645d-13fe-4b74-8c59-b8c1ccfa6e7d"
      },
      "execution_count": 28,
      "outputs": [
        {
          "output_type": "stream",
          "name": "stdout",
          "text": [
            "     Store_Area  Items_Available  Daily_Customer_Count\n",
            "0          1659             1961                   530\n",
            "1          1461             1752                   210\n",
            "2          1340             1609                   720\n",
            "3          1451             1748                   620\n",
            "4          1770             2111                   450\n",
            "..          ...              ...                   ...\n",
            "891        1582             1910                  1080\n",
            "892        1387             1663                   850\n",
            "893        1200             1436                  1060\n",
            "894        1299             1560                   770\n",
            "895        1174             1429                  1110\n",
            "\n",
            "[896 rows x 3 columns]\n",
            "0      66490\n",
            "1      39820\n",
            "2      54010\n",
            "3      53730\n",
            "4      46620\n",
            "       ...  \n",
            "891    66390\n",
            "892    82080\n",
            "893    76440\n",
            "894    96610\n",
            "895    54340\n",
            "Name: Store_Sales, Length: 896, dtype: int64\n"
          ]
        }
      ]
    },
    {
      "cell_type": "code",
      "source": [
        "model.fit(X_train, y_train)"
      ],
      "metadata": {
        "colab": {
          "base_uri": "https://localhost:8080/",
          "height": 74
        },
        "id": "95zM7lR8W8s1",
        "outputId": "413d9e7d-73c9-49d4-d19e-09224d2eba4a"
      },
      "execution_count": 29,
      "outputs": [
        {
          "output_type": "execute_result",
          "data": {
            "text/plain": [
              "LinearRegression()"
            ],
            "text/html": [
              "<style>#sk-container-id-1 {color: black;background-color: white;}#sk-container-id-1 pre{padding: 0;}#sk-container-id-1 div.sk-toggleable {background-color: white;}#sk-container-id-1 label.sk-toggleable__label {cursor: pointer;display: block;width: 100%;margin-bottom: 0;padding: 0.3em;box-sizing: border-box;text-align: center;}#sk-container-id-1 label.sk-toggleable__label-arrow:before {content: \"▸\";float: left;margin-right: 0.25em;color: #696969;}#sk-container-id-1 label.sk-toggleable__label-arrow:hover:before {color: black;}#sk-container-id-1 div.sk-estimator:hover label.sk-toggleable__label-arrow:before {color: black;}#sk-container-id-1 div.sk-toggleable__content {max-height: 0;max-width: 0;overflow: hidden;text-align: left;background-color: #f0f8ff;}#sk-container-id-1 div.sk-toggleable__content pre {margin: 0.2em;color: black;border-radius: 0.25em;background-color: #f0f8ff;}#sk-container-id-1 input.sk-toggleable__control:checked~div.sk-toggleable__content {max-height: 200px;max-width: 100%;overflow: auto;}#sk-container-id-1 input.sk-toggleable__control:checked~label.sk-toggleable__label-arrow:before {content: \"▾\";}#sk-container-id-1 div.sk-estimator input.sk-toggleable__control:checked~label.sk-toggleable__label {background-color: #d4ebff;}#sk-container-id-1 div.sk-label input.sk-toggleable__control:checked~label.sk-toggleable__label {background-color: #d4ebff;}#sk-container-id-1 input.sk-hidden--visually {border: 0;clip: rect(1px 1px 1px 1px);clip: rect(1px, 1px, 1px, 1px);height: 1px;margin: -1px;overflow: hidden;padding: 0;position: absolute;width: 1px;}#sk-container-id-1 div.sk-estimator {font-family: monospace;background-color: #f0f8ff;border: 1px dotted black;border-radius: 0.25em;box-sizing: border-box;margin-bottom: 0.5em;}#sk-container-id-1 div.sk-estimator:hover {background-color: #d4ebff;}#sk-container-id-1 div.sk-parallel-item::after {content: \"\";width: 100%;border-bottom: 1px solid gray;flex-grow: 1;}#sk-container-id-1 div.sk-label:hover label.sk-toggleable__label {background-color: #d4ebff;}#sk-container-id-1 div.sk-serial::before {content: \"\";position: absolute;border-left: 1px solid gray;box-sizing: border-box;top: 0;bottom: 0;left: 50%;z-index: 0;}#sk-container-id-1 div.sk-serial {display: flex;flex-direction: column;align-items: center;background-color: white;padding-right: 0.2em;padding-left: 0.2em;position: relative;}#sk-container-id-1 div.sk-item {position: relative;z-index: 1;}#sk-container-id-1 div.sk-parallel {display: flex;align-items: stretch;justify-content: center;background-color: white;position: relative;}#sk-container-id-1 div.sk-item::before, #sk-container-id-1 div.sk-parallel-item::before {content: \"\";position: absolute;border-left: 1px solid gray;box-sizing: border-box;top: 0;bottom: 0;left: 50%;z-index: -1;}#sk-container-id-1 div.sk-parallel-item {display: flex;flex-direction: column;z-index: 1;position: relative;background-color: white;}#sk-container-id-1 div.sk-parallel-item:first-child::after {align-self: flex-end;width: 50%;}#sk-container-id-1 div.sk-parallel-item:last-child::after {align-self: flex-start;width: 50%;}#sk-container-id-1 div.sk-parallel-item:only-child::after {width: 0;}#sk-container-id-1 div.sk-dashed-wrapped {border: 1px dashed gray;margin: 0 0.4em 0.5em 0.4em;box-sizing: border-box;padding-bottom: 0.4em;background-color: white;}#sk-container-id-1 div.sk-label label {font-family: monospace;font-weight: bold;display: inline-block;line-height: 1.2em;}#sk-container-id-1 div.sk-label-container {text-align: center;}#sk-container-id-1 div.sk-container {/* jupyter's `normalize.less` sets `[hidden] { display: none; }` but bootstrap.min.css set `[hidden] { display: none !important; }` so we also need the `!important` here to be able to override the default hidden behavior on the sphinx rendered scikit-learn.org. See: https://github.com/scikit-learn/scikit-learn/issues/21755 */display: inline-block !important;position: relative;}#sk-container-id-1 div.sk-text-repr-fallback {display: none;}</style><div id=\"sk-container-id-1\" class=\"sk-top-container\"><div class=\"sk-text-repr-fallback\"><pre>LinearRegression()</pre><b>In a Jupyter environment, please rerun this cell to show the HTML representation or trust the notebook. <br />On GitHub, the HTML representation is unable to render, please try loading this page with nbviewer.org.</b></div><div class=\"sk-container\" hidden><div class=\"sk-item\"><div class=\"sk-estimator sk-toggleable\"><input class=\"sk-toggleable__control sk-hidden--visually\" id=\"sk-estimator-id-1\" type=\"checkbox\" checked><label for=\"sk-estimator-id-1\" class=\"sk-toggleable__label sk-toggleable__label-arrow\">LinearRegression</label><div class=\"sk-toggleable__content\"><pre>LinearRegression()</pre></div></div></div></div></div>"
            ]
          },
          "metadata": {},
          "execution_count": 29
        }
      ]
    },
    {
      "cell_type": "code",
      "source": [
        "predictions = model.predict(X_test)\n",
        "print(predictions)\n",
        "print(y_test)"
      ],
      "metadata": {
        "colab": {
          "base_uri": "https://localhost:8080/"
        },
        "id": "0DACgVk0dLeG",
        "outputId": "9caaff30-63a8-4d0d-a466-193ca5b79126"
      },
      "execution_count": 33,
      "outputs": [
        {
          "output_type": "stream",
          "name": "stdout",
          "text": [
            "[60670.19768203 62262.11708072 57601.22838209 57867.98514602\n",
            " 58419.92789761 59338.08743109 59207.05736675 58193.77713327\n",
            " 59793.2574248  57751.42831722 57017.52987748 59821.8594569\n",
            " 59072.13112575 57947.10165095 58352.36026403 55733.46066217\n",
            " 54352.23174185 59140.28244442 62735.23994794 62366.50157707\n",
            " 59063.22376149 58755.89088457 61660.42352782 60538.68591892\n",
            " 58162.16790102 60458.66040195 59171.7406534  58056.42767229\n",
            " 61562.07763563 60986.76564894 56911.59350091 64973.9145179\n",
            " 58464.94228767 61930.17524203 64180.93122776 59320.93261739\n",
            " 59183.5164827  60657.13818174 60359.1492433  58187.77439272\n",
            " 59886.34273711 60382.6402052  56324.55320826 60619.44787548\n",
            " 56985.39887539 60902.08415791 58351.44140092 59595.36362517\n",
            " 59908.00191147 58651.90078765 60867.75538016 56145.57483365\n",
            " 61715.37480242 57748.02911643 59656.08617986 61543.94625102\n",
            " 59303.36547247 56451.60009165 59745.24690421 58967.27179281\n",
            " 60717.90110255 59119.4413654  58184.28637897 55424.98107901\n",
            " 60044.82749889 58157.3322356  59819.37852911 58079.74100827\n",
            " 59808.55266808 54841.30290499 58487.2844013  59029.18444708\n",
            " 60171.25003601 58194.03397783 62273.73292085 58571.99729255\n",
            " 56326.51055754 55079.02169103 58479.2483768  59126.91525394\n",
            " 58669.28226424 59964.57653759 59422.836481   59064.94640548\n",
            " 57156.54814791 61345.1918862  56945.98983754 60183.27315385\n",
            " 57000.74286056 62967.07439794 62317.72140798 59588.01529837\n",
            " 59508.10224725 57381.87004234 61334.77178928 58468.37229856\n",
            " 60149.24158678 57331.70631967 55605.14803959 58097.21188794\n",
            " 60965.51729219 60245.18370439 60520.58050851 62183.66469808\n",
            " 62883.26395161 60664.07893576 59963.4196469  60047.15891701\n",
            " 58664.00404762 58676.29268087 56904.05980083 55535.35724627\n",
            " 57600.00300903 60839.21315959 55653.40795245 58296.7371198\n",
            " 58622.48874093 58594.83549686 56474.57644095 59282.32643693\n",
            " 61010.1659892  58376.14965517 62020.70007455 60743.05489691\n",
            " 59664.84853697 59009.77654871 60302.02174218 58555.44859827\n",
            " 56573.95901064 58976.49732677 59055.32377825 61140.65273457\n",
            " 59179.56259825 60502.61656538 59108.78235572 57285.344573\n",
            " 60731.73386868 56038.19058944 60513.89571388 64295.68737418\n",
            " 57266.61931884 57915.73941217 64704.41905812 56772.12072446\n",
            " 60282.02300148 63960.80143084 57175.14481311 62316.41530268\n",
            " 57333.9686653  56747.52312738 58844.56692124 62301.23787379\n",
            " 61860.67298856 60045.39114846 57827.71794177 56179.3264934\n",
            " 57990.23791037 60364.84370354 59227.09828223 62627.07708934\n",
            " 56888.72629516 63656.43450277 55809.60793428 58808.86506942\n",
            " 56639.45893282 56993.91154516 63746.295213   58258.24904879\n",
            " 56659.0339776  62331.69110054 59835.74900734 56808.77136431\n",
            " 58725.38175869 60363.72566536 60497.76145455 57826.60857443\n",
            " 58946.47945568 54972.64874024 60620.66638637 62407.145544  ]\n",
            "891    66390\n",
            "238    51950\n",
            "10     71280\n",
            "315    75800\n",
            "73     71780\n",
            "       ...  \n",
            "27     60530\n",
            "411    49540\n",
            "261    56610\n",
            "775    17670\n",
            "629    62050\n",
            "Name: Store_Sales, Length: 180, dtype: int64\n"
          ]
        }
      ]
    },
    {
      "source": [
        "from sklearn.metrics import r2_score\n",
        "\n",
        "r2 = r2_score(y_test, predictions)\n",
        "\n",
        "print(\"R² score:\", r2)"
      ],
      "cell_type": "code",
      "metadata": {
        "colab": {
          "base_uri": "https://localhost:8080/"
        },
        "id": "i7ZmWlOPeXnB",
        "outputId": "f0e523b6-3536-483f-9a8a-86d9645919a3"
      },
      "execution_count": 35,
      "outputs": [
        {
          "output_type": "stream",
          "name": "stdout",
          "text": [
            "R² score: -0.012098944488369234\n"
          ]
        }
      ]
    },
    {
      "source": [
        "from sklearn.metrics import mean_squared_error\n",
        "\n",
        "mse = mean_squared_error(y_test, predictions)\n",
        "\n",
        "print(\"Mean squared error:\", mse)"
      ],
      "cell_type": "code",
      "metadata": {
        "colab": {
          "base_uri": "https://localhost:8080/"
        },
        "id": "GCNgEWz1duRD",
        "outputId": "bb0e510b-319c-4723-a24b-d6488771e844"
      },
      "execution_count": 34,
      "outputs": [
        {
          "output_type": "stream",
          "name": "stdout",
          "text": [
            "Mean squared error: 297659380.5800437\n"
          ]
        }
      ]
    },
    {
      "cell_type": "code",
      "source": [
        "from sklearn.ensemble import RandomForestRegressor\n",
        "\n",
        "regressor = RandomForestRegressor(random_state=116)\n",
        "\n",
        "regressor.fit(X_train, y_train)\n",
        "\n",
        "y_pred = regressor.predict(X_test)\n",
        "\n",
        "print(\"Predicted values:\", y_pred)"
      ],
      "metadata": {
        "colab": {
          "base_uri": "https://localhost:8080/"
        },
        "id": "vYx8om8oefAn",
        "outputId": "1e12a367-985c-4794-f481-ef7d25fc44ba"
      },
      "execution_count": 41,
      "outputs": [
        {
          "output_type": "stream",
          "name": "stdout",
          "text": [
            "Predicted values: [57085.3 66423.6 55050.  57340.7 58849.5 51678.7 61390.6 53162.3 57716.8\n",
            " 60611.2 63736.7 58780.1 54293.9 46434.  59986.4 59448.5 39646.8 55730.6\n",
            " 52762.7 58464.3 56255.2 55821.2 58120.3 64115.4 53286.  55947.7 58583.\n",
            " 54628.  70321.7 61175.3 54839.1 63807.3 66486.2 60268.6 60866.7 70601.2\n",
            " 52671.9 67293.8 56822.5 65924.1 54472.5 57629.5 52992.5 66902.  59110.\n",
            " 53299.  56602.3 55090.7 59651.7 55805.8 70889.5 53689.6 56637.3 67605.6\n",
            " 53925.9 65120.7 55308.8 51503.6 66161.3 61162.1 68560.2 59873.4 58016.6\n",
            " 51233.6 51283.2 58909.  54392.6 51483.5 48667.9 68042.9 54882.3 57424.1\n",
            " 58830.4 54091.8 55363.  50491.5 67333.9 51576.1 56110.7 60123.3 64682.\n",
            " 52388.5 56447.4 55476.9 59784.1 58495.3 70276.4 45290.3 48761.  65085.5\n",
            " 68186.  60288.4 53284.7 63001.7 61596.  43225.9 56379.8 51007.9 56024.4\n",
            " 58266.3 66535.2 69998.4 65199.2 64917.3 71687.1 53542.  47799.3 58398.4\n",
            " 51771.5 48644.9 55632.8 44321.4 53894.4 57408.3 57415.5 64381.6 56133.8\n",
            " 66339.3 70049.9 47274.4 61247.4 70404.7 53675.7 55335.5 59078.8 60701.4\n",
            " 60957.6 44388.5 55709.8 58778.5 63732.6 43022.3 38330.4 52716.6 65453.4\n",
            " 58342.3 67511.2 62394.7 48704.5 70314.5 54978.9 58547.7 62701.  57322.3\n",
            " 58345.8 61448.6 63684.6 57137.  67857.5 64558.6 63705.4 61170.7 62110.7\n",
            " 64359.9 52342.5 58445.9 58855.2 62258.6 59047.6 72005.9 57374.4 62248.3\n",
            " 66332.4 46803.6 57715.  59971.8 58963.9 63560.6 57047.5 70097.8 62423.9\n",
            " 60890.5 48842.9 61266.3 55880.1 63825.7 59651.4 58115.5 64140.2 52834.9]\n"
          ]
        }
      ]
    },
    {
      "cell_type": "code",
      "source": [
        "r2 = r2_score(y_test, y_pred)\n",
        "\n",
        "print(\"R² score:\", r2)"
      ],
      "metadata": {
        "colab": {
          "base_uri": "https://localhost:8080/"
        },
        "id": "L7z7He26e3G1",
        "outputId": "08b18d5c-132c-495b-e2ea-d8cddc41a6bd"
      },
      "execution_count": 42,
      "outputs": [
        {
          "output_type": "stream",
          "name": "stdout",
          "text": [
            "R² score: -0.1344129806054708\n"
          ]
        }
      ]
    },
    {
      "cell_type": "code",
      "source": [
        "mse = mean_squared_error(y_test, y_pred)\n",
        "\n",
        "print(\"Mean squared error:\", mse)"
      ],
      "metadata": {
        "colab": {
          "base_uri": "https://localhost:8080/"
        },
        "id": "YwHlfuH-fAS1",
        "outputId": "f48e140e-d0ab-49c9-db23-57ae604d553d"
      },
      "execution_count": 43,
      "outputs": [
        {
          "output_type": "stream",
          "name": "stdout",
          "text": [
            "Mean squared error: 333632069.24366665\n"
          ]
        }
      ]
    }
  ]
}